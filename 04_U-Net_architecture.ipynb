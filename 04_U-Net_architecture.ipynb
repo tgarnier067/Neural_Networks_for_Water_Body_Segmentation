{
 "cells": [
  {
   "cell_type": "markdown",
   "id": "57d86245-658e-4f97-895c-1a5ef357699f",
   "metadata": {},
   "source": [
    "Our goal is to modify the U-Net architecture, in order to build a AER_U-Net architecure.\n",
    "So first, we download the U-Net architecture on GitHub : https://github.com/ThorOdinson246/UNet-Water-SegmentationS"
   ]
  },
  {
   "cell_type": "code",
   "execution_count": 6,
   "id": "0d5e56d0-5fa2-4289-afa6-19cdc7db054a",
   "metadata": {},
   "outputs": [],
   "source": [
    "!pip install torch torchvision --quiet"
   ]
  },
  {
   "cell_type": "markdown",
   "id": "54c297df-8e7c-45bb-a3f3-b85f4f7dab38",
   "metadata": {},
   "source": [
    "# Copy past from git"
   ]
  },
  {
   "cell_type": "code",
   "execution_count": null,
   "id": "35948807-af42-4d62-a2f2-548e0336f465",
   "metadata": {},
   "outputs": [],
   "source": [
    "class UNet(nn.Module):\n",
    "    def __init__(self, in_channels=3, out_channels=1, features=[64, 128, 256, 512]):\n",
    "        super(UNet, self).__init__()\n",
    "        self.downs = nn.ModuleList()\n",
    "        self.ups = nn.ModuleList()\n",
    "        self.pool = nn.MaxPool2d(kernel_size=2, stride=2)\n",
    "\n",
    "        # Encoder Path (Downsampling)\n",
    "        for feature in features:\n",
    "            self.downs.append(DoubleConv(in_channels, feature))\n",
    "            in_channels = feature\n",
    "\n",
    "        # Bottleneck\n",
    "        self.bottleneck = DoubleConv(features[-1], features[-1] * 2)\n",
    "\n",
    "        # Decoder Path (Upsampling)\n",
    "        for feature in reversed(features):\n",
    "            # Up-convolution\n",
    "            self.ups.append(\n",
    "                nn.ConvTranspose2d(feature * 2, feature, kernel_size=2, stride=2)\n",
    "            )\n",
    "            # DoubleConv after concatenation\n",
    "            self.ups.append(DoubleConv(feature * 2, feature)) # Takes concatenated channels\n",
    "\n",
    "        # Final Convolution\n",
    "        self.final_conv = nn.Conv2d(features[0], out_channels, kernel_size=1)"
   ]
  },
  {
   "cell_type": "code",
   "execution_count": null,
   "id": "27c35b7a-f92e-47a2-a7de-89a62828e167",
   "metadata": {},
   "outputs": [],
   "source": [
    "class DoubleConv(nn.Module):\n",
    "    def __init__(self, in_channels, out_channels):\n",
    "        super(DoubleConv, self).__init__()\n",
    "        self.double_conv = nn.Sequential(\n",
    "            nn.Conv2d(in_channels, out_channels, kernel_size=3, padding=1),\n",
    "            nn.BatchNorm2d(out_channels),\n",
    "            nn.ReLU(inplace=True),\n",
    "            nn.Conv2d(out_channels, out_channels, kernel_size=3, padding=1),\n",
    "            nn.BatchNorm2d(out_channels),\n",
    "            nn.ReLU(inplace=True)\n",
    "        )\n",
    "    def forward(self, x):\n",
    "        return self.double_conv(x)"
   ]
  },
  {
   "cell_type": "code",
   "execution_count": null,
   "id": "e82bb4d2-9311-4b1f-aaa7-c88e2538ae61",
   "metadata": {},
   "outputs": [],
   "source": [
    "# Assumes 'x' is output from previous layer, 'skip_connections' holds encoder outputs\n",
    "for i in range(0, len(self.ups), 2):\n",
    "    x = self.ups[i](x) \n",
    "    skip_connection = skip_connections[i // 2] \n",
    "\n",
    "\n",
    "    concatenate_skip = torch.cat((skip_connection, x), dim=1) \n",
    "    x = self.ups[i + 1](concatenate_skip) "
   ]
  },
  {
   "cell_type": "code",
   "execution_count": null,
   "id": "2a329488-884e-43df-abdd-c5bc44d8440c",
   "metadata": {},
   "outputs": [],
   "source": [
    "# In WaterBodyDataset class:\n",
    "def __getitem__(self, idx):\n",
    "    image = Image.open(img_path).convert(\"RGB\")\n",
    "    mask = Image.open(mask_path).convert(\"L\") # Grayscale mask\n",
    "\n",
    "    if self.transform:\n",
    "        image = self.transform(image)\n",
    "        mask = self.transform(mask)\n",
    "    return image, mask"
   ]
  },
  {
   "cell_type": "code",
   "execution_count": null,
   "id": "a1dc49a1-0e9f-4a79-800d-013000a936b1",
   "metadata": {},
   "outputs": [],
   "source": [
    "def dice_coefficient(pred, target, smooth=1e-6):\n",
    "    pred_flat = pred.view(-1)\n",
    "    target_flat = target.view(-1)\n",
    "    intersection = (pred_flat * target_flat).sum()\n",
    "    return (2. * intersection + smooth) / (pred_flat.sum() + target_flat.sum() + smooth)"
   ]
  },
  {
   "cell_type": "markdown",
   "id": "9bb5d6e3-3db3-479e-8809-d1bbf447bd91",
   "metadata": {},
   "source": [
    "# Application to our dataset"
   ]
  },
  {
   "cell_type": "code",
   "execution_count": 3,
   "id": "91661a9c-c912-4294-9a2a-4c5b11509f4a",
   "metadata": {},
   "outputs": [],
   "source": [
    "import torch\n",
    "import torch.nn as nn\n",
    "import torch.nn.functional as F\n",
    "\n",
    "class DoubleConv(nn.Module):\n",
    "    def __init__(self, in_channels, out_channels):\n",
    "        super(DoubleConv, self).__init__()\n",
    "        self.double_conv = nn.Sequential(\n",
    "            nn.Conv2d(in_channels, out_channels, kernel_size=3, padding=1),\n",
    "            nn.BatchNorm2d(out_channels),\n",
    "            nn.ReLU(inplace=True),\n",
    "            nn.Conv2d(out_channels, out_channels, kernel_size=3, padding=1),\n",
    "            nn.BatchNorm2d(out_channels),\n",
    "            nn.ReLU(inplace=True)\n",
    "        )\n",
    "    def forward(self, x):\n",
    "        return self.double_conv(x)\n",
    "\n",
    "class UNet(nn.Module):\n",
    "    def __init__(self, in_channels=3, out_channels=1, features=[64, 128, 256, 512]):\n",
    "        super(UNet, self).__init__()\n",
    "        self.downs = nn.ModuleList()\n",
    "        self.ups = nn.ModuleList()\n",
    "        self.pool = nn.MaxPool2d(kernel_size=2, stride=2)\n",
    "\n",
    "        # Encoder\n",
    "        for feature in features:\n",
    "            self.downs.append(DoubleConv(in_channels, feature))\n",
    "            in_channels = feature\n",
    "\n",
    "        # Bottleneck\n",
    "        self.bottleneck = DoubleConv(features[-1], features[-1] * 2)\n",
    "\n",
    "        # Decoder\n",
    "        for feature in reversed(features):\n",
    "            self.ups.append(\n",
    "                nn.ConvTranspose2d(feature * 2, feature, kernel_size=2, stride=2)\n",
    "            )\n",
    "            self.ups.append(DoubleConv(feature * 2, feature))  # After concatenation\n",
    "\n",
    "        # Final\n",
    "        self.final_conv = nn.Conv2d(features[0], out_channels, kernel_size=1)\n",
    "\n",
    "    def forward(self, x):\n",
    "        skip_connections = []\n",
    "        for down in self.downs:\n",
    "            x = down(x)\n",
    "            skip_connections.append(x)\n",
    "            x = self.pool(x)\n",
    "\n",
    "        x = self.bottleneck(x)\n",
    "        skip_connections = skip_connections[::-1]\n",
    "\n",
    "        for i in range(0, len(self.ups), 2):\n",
    "            x = self.ups[i](x)\n",
    "            skip_connection = skip_connections[i // 2]\n",
    "\n",
    "            if x.shape != skip_connection.shape:\n",
    "                x = F.interpolate(x, size=skip_connection.shape[2:])\n",
    "\n",
    "            x = torch.cat((skip_connection, x), dim=1)\n",
    "            x = self.ups[i + 1](x)\n",
    "\n",
    "        return self.final_conv(x)"
   ]
  },
  {
   "cell_type": "code",
   "execution_count": 7,
   "id": "54ad0ea6-f736-4fc3-a103-d7a5461d759e",
   "metadata": {},
   "outputs": [],
   "source": [
    "from torch.utils.data import Dataset\n",
    "from PIL import Image\n",
    "import torchvision.transforms as T\n",
    "import torchvision.transforms.functional as TF\n",
    "\n",
    "class WaterBodyDataset(Dataset):\n",
    "    def __init__(self, image_paths, mask_paths, transform=None):\n",
    "        self.image_paths = image_paths\n",
    "        self.mask_paths = mask_paths\n",
    "        self.transform = transform\n",
    "\n",
    "    def __getitem__(self, idx):\n",
    "        image = Image.open(self.image_paths[idx]).convert(\"RGB\")\n",
    "        mask = Image.open(self.mask_paths[idx]).convert(\"L\")\n",
    "\n",
    "        if self.transform:\n",
    "            image = self.transform(image)\n",
    "            mask = TF.to_tensor(mask)\n",
    "            mask = (mask > 0.5).float()\n",
    "\n",
    "        return image, mask\n",
    "\n",
    "    def __len__(self):\n",
    "        return len(self.image_paths)\n"
   ]
  },
  {
   "cell_type": "code",
   "execution_count": 8,
   "id": "95aad811-2ac8-4bbb-acba-8eb2d1655ace",
   "metadata": {},
   "outputs": [],
   "source": [
    "def dice_coefficient(pred, target, smooth=1e-6):\n",
    "    pred = torch.sigmoid(pred)\n",
    "    pred_flat = pred.view(-1)\n",
    "    target_flat = target.view(-1)\n",
    "    intersection = (pred_flat * target_flat).sum()\n",
    "    return (2. * intersection + smooth) / (pred_flat.sum() + target_flat.sum() + smooth)\n"
   ]
  },
  {
   "cell_type": "code",
   "execution_count": 9,
   "id": "474f9eba-79cf-4a81-a29b-74baffc5a21c",
   "metadata": {},
   "outputs": [
    {
     "ename": "NameError",
     "evalue": "name 'train_loader' is not defined",
     "output_type": "error",
     "traceback": [
      "\u001b[31m---------------------------------------------------------------------------\u001b[39m",
      "\u001b[31mNameError\u001b[39m                                 Traceback (most recent call last)",
      "\u001b[36mCell\u001b[39m\u001b[36m \u001b[39m\u001b[32mIn[9]\u001b[39m\u001b[32m, line 12\u001b[39m\n\u001b[32m     10\u001b[39m model.train()\n\u001b[32m     11\u001b[39m total_loss = \u001b[32m0\u001b[39m\n\u001b[32m---> \u001b[39m\u001b[32m12\u001b[39m \u001b[38;5;28;01mfor\u001b[39;00m imgs, masks \u001b[38;5;129;01min\u001b[39;00m \u001b[43mtrain_loader\u001b[49m:\n\u001b[32m     13\u001b[39m     imgs = imgs.cuda() \u001b[38;5;28;01mif\u001b[39;00m torch.cuda.is_available() \u001b[38;5;28;01melse\u001b[39;00m imgs\n\u001b[32m     14\u001b[39m     masks = masks.cuda() \u001b[38;5;28;01mif\u001b[39;00m torch.cuda.is_available() \u001b[38;5;28;01melse\u001b[39;00m masks\n",
      "\u001b[31mNameError\u001b[39m: name 'train_loader' is not defined"
     ]
    }
   ],
   "source": [
    "# Training\n",
    "\n",
    "model = UNet()\n",
    "model = model.cuda() if torch.cuda.is_available() else model\n",
    "\n",
    "optimizer = torch.optim.Adam(model.parameters(), lr=1e-4)\n",
    "criterion = nn.BCEWithLogitsLoss()\n",
    "\n",
    "for epoch in range(10):\n",
    "    model.train()\n",
    "    total_loss = 0\n",
    "    for imgs, masks in train_loader:\n",
    "        imgs = imgs.cuda() if torch.cuda.is_available() else imgs\n",
    "        masks = masks.cuda() if torch.cuda.is_available() else masks\n",
    "\n",
    "        preds = model(imgs)\n",
    "        loss = criterion(preds, masks)\n",
    "\n",
    "        optimizer.zero_grad()\n",
    "        loss.backward()\n",
    "        optimizer.step()\n",
    "\n",
    "        total_loss += loss.item()\n",
    "\n",
    "    print(f\"Epoch {epoch+1} - Loss: {total_loss:.4f}\")\n"
   ]
  },
  {
   "cell_type": "code",
   "execution_count": null,
   "id": "2d8465ff-6702-4cca-ae5c-d74abcdac9fa",
   "metadata": {},
   "outputs": [],
   "source": [
    "# Predictions\n",
    "\n",
    "import matplotlib.pyplot as plt\n",
    "\n",
    "model.eval()\n",
    "with torch.no_grad():\n",
    "    img, mask = val_dataset[0]\n",
    "    pred = model(img.unsqueeze(0).to(img.device))\n",
    "    pred = torch.sigmoid(pred).squeeze().cpu().numpy()\n",
    "\n",
    "plt.subplot(1, 3, 1)\n",
    "plt.imshow(img.permute(1,2,0))\n",
    "plt.title(\"Image\")\n",
    "\n",
    "plt.subplot(1, 3, 2)\n",
    "plt.imshow(mask.squeeze(), cmap='gray')\n",
    "plt.title(\"Mask\")\n",
    "\n",
    "plt.subplot(1, 3, 3)\n",
    "plt.imshow(pred > 0.5, cmap='gray')\n",
    "plt.title(\"Prediction\")\n",
    "plt.show()\n"
   ]
  }
 ],
 "metadata": {
  "kernelspec": {
   "display_name": "Python 3 (ipykernel)",
   "language": "python",
   "name": "python3"
  },
  "language_info": {
   "codemirror_mode": {
    "name": "ipython",
    "version": 3
   },
   "file_extension": ".py",
   "mimetype": "text/x-python",
   "name": "python",
   "nbconvert_exporter": "python",
   "pygments_lexer": "ipython3",
   "version": "3.12.9"
  }
 },
 "nbformat": 4,
 "nbformat_minor": 5
}
